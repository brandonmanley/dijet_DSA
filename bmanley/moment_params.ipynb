{
 "cells": [
  {
   "cell_type": "code",
   "execution_count": 1,
   "id": "cb64431f-e7d1-483d-9c7a-f1f1ac106d4f",
   "metadata": {},
   "outputs": [],
   "source": [
    "import numpy as np\n",
    "import matplotlib.pyplot as plt\n",
    "import sys\n",
    "sys.path.append('/Users/brandonmanley/Desktop/PhD/oam_pheno/dijet_dsa')\n",
    "import dsa_mc.dijet as dijet\n",
    "import random\n",
    "from IPython.display import display, Math\n",
    "\n",
    "# setup plotting\n",
    "plt.rcParams[\"font.family\"] = \"Times New Roman\"\n",
    "plt.rcParams[\"font.size\"] = 12\n",
    "plt.rcParams[\"legend.fontsize\"] = 12\n",
    "plt.rcParams[\"axes.labelsize\"] = 14  \n",
    "plt.rcParams[\"xtick.labelsize\"] = 12  \n",
    "plt.rcParams[\"ytick.labelsize\"] = 12\n",
    "plt.rcParams[\"axes.titlesize\"] = 16  \n",
    "plt.rcParams[\"text.usetex\"] = True\n",
    "plt.rcParams[\"text.latex.preamble\"] = r\"\\usepackage{amsmath}\"\n",
    "%config InlineBackend.figure_format = 'retina'"
   ]
  },
  {
   "cell_type": "code",
   "execution_count": 5,
   "id": "a04aec31-39a8-4575-a1ed-0e5cfce52e46",
   "metadata": {},
   "outputs": [
    {
     "name": "stdout",
     "output_type": "stream",
     "text": [
      "--> loaded unpol. amp. data from /dipoles/narr_ymin4.61_ymax14.91_AAMS09.dat\n",
      "--> loaded pol. amp. data from /dipoles/d05-rc/\n",
      "--> loaded params from /dipoles/replica_params_dis.csv\n",
      "--> loaded random moment params from /dipoles/moment_params_dis.csv\n",
      "--> loaded replica 1\n",
      "--> loaded unpol. amp. data from /dipoles/narr_ymin4.61_ymax14.91_AAMS09.dat\n",
      "--> loaded pol. amp. data from /dipoles/d05-rc/\n",
      "--> loaded params from /dipoles/replica_params_pp_2.csv\n",
      "--> loaded random moment params from /dipoles/moment_params_pp.csv\n",
      "--> loaded replica 1\n",
      "1\n",
      "2\n",
      "3\n",
      "4\n",
      "5\n",
      "6\n",
      "7\n"
     ]
    },
    {
     "ename": "KeyboardInterrupt",
     "evalue": "",
     "output_type": "error",
     "traceback": [
      "\u001b[0;31m---------------------------------------------------------------------------\u001b[0m",
      "\u001b[0;31mKeyboardInterrupt\u001b[0m                         Traceback (most recent call last)",
      "Cell \u001b[0;32mIn[5], line 32\u001b[0m\n\u001b[1;32m     30\u001b[0m safe_replica \u001b[38;5;241m=\u001b[39m \u001b[38;5;28;01mTrue\u001b[39;00m\n\u001b[1;32m     31\u001b[0m \u001b[38;5;28;01mfor\u001b[39;00m xmax \u001b[38;5;129;01min\u001b[39;00m [\u001b[38;5;241m10\u001b[39m\u001b[38;5;241m*\u001b[39m\u001b[38;5;241m*\u001b[39m(\u001b[38;5;241m-\u001b[39m\u001b[38;5;241m4\u001b[39m), \u001b[38;5;241m10\u001b[39m\u001b[38;5;241m*\u001b[39m\u001b[38;5;241m*\u001b[39m(\u001b[38;5;241m-\u001b[39m\u001b[38;5;241m3\u001b[39m), \u001b[38;5;241m10\u001b[39m\u001b[38;5;241m*\u001b[39m\u001b[38;5;241m*\u001b[39m(\u001b[38;5;241m-\u001b[39m\u001b[38;5;241m2\u001b[39m), \u001b[38;5;241m10\u001b[39m\u001b[38;5;241m*\u001b[39m\u001b[38;5;241m*\u001b[39m(\u001b[38;5;241m-\u001b[39m\u001b[38;5;241m1\u001b[39m)]:\n\u001b[0;32m---> 32\u001b[0m     integrated_oam_value \u001b[38;5;241m=\u001b[39m \u001b[43mdjs\u001b[49m\u001b[43m[\u001b[49m\u001b[43mfit\u001b[49m\u001b[43m]\u001b[49m\u001b[38;5;241;43m.\u001b[39;49m\u001b[43mget_IntegratedPDF\u001b[49m\u001b[43m(\u001b[49m\u001b[38;5;124;43m'\u001b[39;49m\u001b[38;5;124;43moam\u001b[39;49m\u001b[38;5;124;43m'\u001b[39;49m\u001b[43m,\u001b[49m\u001b[43m \u001b[49m\u001b[43mQ2\u001b[49m\u001b[43m,\u001b[49m\u001b[43m \u001b[49m\u001b[43mxmax\u001b[49m\u001b[38;5;241;43m=\u001b[39;49m\u001b[43mxmax\u001b[49m\u001b[43m)\u001b[49m\n\u001b[1;32m     33\u001b[0m     \u001b[38;5;28;01mif\u001b[39;00m np\u001b[38;5;241m.\u001b[39mabs(integrated_oam_value) \u001b[38;5;241m>\u001b[39m \u001b[38;5;241m1.0\u001b[39m: safe_replica \u001b[38;5;241m=\u001b[39m \u001b[38;5;28;01mFalse\u001b[39;00m\n\u001b[1;32m     35\u001b[0m \u001b[38;5;28;01mif\u001b[39;00m safe_replica: found_params \u001b[38;5;241m=\u001b[39m \u001b[38;5;28;01mTrue\u001b[39;00m\n",
      "File \u001b[0;32m~/Desktop/PhD/oam_pheno/dijet_dsa/dsa_mc/dijet.py:901\u001b[0m, in \u001b[0;36mDIJET.get_IntegratedPDF\u001b[0;34m(self, kind, Q2, xmin, xmax)\u001b[0m\n\u001b[1;32m    898\u001b[0m \u001b[38;5;28;01melse\u001b[39;00m:\n\u001b[1;32m    899\u001b[0m \t\u001b[38;5;28;01mraise\u001b[39;00m \u001b[38;5;167;01mValueError\u001b[39;00m(\u001b[38;5;124mf\u001b[39m\u001b[38;5;124m'\u001b[39m\u001b[38;5;124mdont know \u001b[39m\u001b[38;5;132;01m{\u001b[39;00mkind\u001b[38;5;132;01m}\u001b[39;00m\u001b[38;5;124m'\u001b[39m)\n\u001b[0;32m--> 901\u001b[0m \u001b[38;5;28;01mreturn\u001b[39;00m \u001b[43mifunc\u001b[49m\u001b[43m(\u001b[49m\u001b[43mxmax\u001b[49m\u001b[43m)\u001b[49m\n",
      "File \u001b[0;32m~/Desktop/PhD/oam_pheno/dijet_dsa/dsa_mc/dijet.py:897\u001b[0m, in \u001b[0;36mDIJET.get_IntegratedPDF.<locals>.<lambda>\u001b[0;34m(xm)\u001b[0m\n\u001b[1;32m    895\u001b[0m \tifunc \u001b[38;5;241m=\u001b[39m \u001b[38;5;28;01mlambda\u001b[39;00m xm: fixed_quad(np\u001b[38;5;241m.\u001b[39mvectorize(\u001b[38;5;28;01mlambda\u001b[39;00m x: \u001b[38;5;241m0.5\u001b[39m\u001b[38;5;241m*\u001b[39m\u001b[38;5;28mself\u001b[39m\u001b[38;5;241m.\u001b[39mget_DeltaSigma(x, Q2) \u001b[38;5;241m+\u001b[39m \u001b[38;5;28mself\u001b[39m\u001b[38;5;241m.\u001b[39mget_DeltaG(x, Q2)), xmin, xm, n\u001b[38;5;241m=\u001b[39mnpoints)[\u001b[38;5;241m0\u001b[39m]\n\u001b[1;32m    896\u001b[0m \u001b[38;5;28;01melif\u001b[39;00m kind \u001b[38;5;241m==\u001b[39m \u001b[38;5;124m'\u001b[39m\u001b[38;5;124moam\u001b[39m\u001b[38;5;124m'\u001b[39m:\n\u001b[0;32m--> 897\u001b[0m \tifunc \u001b[38;5;241m=\u001b[39m \u001b[38;5;28;01mlambda\u001b[39;00m xm: \u001b[43mfixed_quad\u001b[49m\u001b[43m(\u001b[49m\u001b[43mnp\u001b[49m\u001b[38;5;241;43m.\u001b[39;49m\u001b[43mvectorize\u001b[49m\u001b[43m(\u001b[49m\u001b[38;5;28;43;01mlambda\u001b[39;49;00m\u001b[43m \u001b[49m\u001b[43mx\u001b[49m\u001b[43m:\u001b[49m\u001b[43m \u001b[49m\u001b[38;5;28;43mself\u001b[39;49m\u001b[38;5;241;43m.\u001b[39;49m\u001b[43mget_Lsinglet\u001b[49m\u001b[43m(\u001b[49m\u001b[43mx\u001b[49m\u001b[43m,\u001b[49m\u001b[43m \u001b[49m\u001b[43mQ2\u001b[49m\u001b[43m)\u001b[49m\u001b[43m \u001b[49m\u001b[38;5;241;43m+\u001b[39;49m\u001b[43m \u001b[49m\u001b[38;5;28;43mself\u001b[39;49m\u001b[38;5;241;43m.\u001b[39;49m\u001b[43mget_LG\u001b[49m\u001b[43m(\u001b[49m\u001b[43mx\u001b[49m\u001b[43m,\u001b[49m\u001b[43m \u001b[49m\u001b[43mQ2\u001b[49m\u001b[43m)\u001b[49m\u001b[43m)\u001b[49m\u001b[43m,\u001b[49m\u001b[43m \u001b[49m\u001b[43mxmin\u001b[49m\u001b[43m,\u001b[49m\u001b[43m \u001b[49m\u001b[43mxm\u001b[49m\u001b[43m,\u001b[49m\u001b[43m \u001b[49m\u001b[43mn\u001b[49m\u001b[38;5;241;43m=\u001b[39;49m\u001b[43mnpoints\u001b[49m\u001b[43m)\u001b[49m[\u001b[38;5;241m0\u001b[39m]\n\u001b[1;32m    898\u001b[0m \u001b[38;5;28;01melse\u001b[39;00m:\n\u001b[1;32m    899\u001b[0m \t\u001b[38;5;28;01mraise\u001b[39;00m \u001b[38;5;167;01mValueError\u001b[39;00m(\u001b[38;5;124mf\u001b[39m\u001b[38;5;124m'\u001b[39m\u001b[38;5;124mdont know \u001b[39m\u001b[38;5;132;01m{\u001b[39;00mkind\u001b[38;5;132;01m}\u001b[39;00m\u001b[38;5;124m'\u001b[39m)\n",
      "File \u001b[0;32m~/Library/Python/3.9/lib/python/site-packages/scipy/integrate/_quadrature.py:269\u001b[0m, in \u001b[0;36mfixed_quad\u001b[0;34m(func, a, b, args, n)\u001b[0m\n\u001b[1;32m    266\u001b[0m     \u001b[38;5;28;01mraise\u001b[39;00m \u001b[38;5;167;01mValueError\u001b[39;00m(\u001b[38;5;124m\"\u001b[39m\u001b[38;5;124mGaussian quadrature is only available for \u001b[39m\u001b[38;5;124m\"\u001b[39m\n\u001b[1;32m    267\u001b[0m                      \u001b[38;5;124m\"\u001b[39m\u001b[38;5;124mfinite limits.\u001b[39m\u001b[38;5;124m\"\u001b[39m)\n\u001b[1;32m    268\u001b[0m y \u001b[38;5;241m=\u001b[39m (b\u001b[38;5;241m-\u001b[39ma)\u001b[38;5;241m*\u001b[39m(x\u001b[38;5;241m+\u001b[39m\u001b[38;5;241m1\u001b[39m)\u001b[38;5;241m/\u001b[39m\u001b[38;5;241m2.0\u001b[39m \u001b[38;5;241m+\u001b[39m a\n\u001b[0;32m--> 269\u001b[0m \u001b[38;5;28;01mreturn\u001b[39;00m (b\u001b[38;5;241m-\u001b[39ma)\u001b[38;5;241m/\u001b[39m\u001b[38;5;241m2.0\u001b[39m \u001b[38;5;241m*\u001b[39m np\u001b[38;5;241m.\u001b[39msum(w\u001b[38;5;241m*\u001b[39m\u001b[43mfunc\u001b[49m\u001b[43m(\u001b[49m\u001b[43my\u001b[49m\u001b[43m,\u001b[49m\u001b[43m \u001b[49m\u001b[38;5;241;43m*\u001b[39;49m\u001b[43margs\u001b[49m\u001b[43m)\u001b[49m, axis\u001b[38;5;241m=\u001b[39m\u001b[38;5;241m-\u001b[39m\u001b[38;5;241m1\u001b[39m), \u001b[38;5;28;01mNone\u001b[39;00m\n",
      "File \u001b[0;32m~/Library/Python/3.9/lib/python/site-packages/numpy/lib/_function_base_impl.py:2397\u001b[0m, in \u001b[0;36mvectorize.__call__\u001b[0;34m(self, *args, **kwargs)\u001b[0m\n\u001b[1;32m   2394\u001b[0m     \u001b[38;5;28mself\u001b[39m\u001b[38;5;241m.\u001b[39m_init_stage_2(\u001b[38;5;241m*\u001b[39margs, \u001b[38;5;241m*\u001b[39m\u001b[38;5;241m*\u001b[39mkwargs)\n\u001b[1;32m   2395\u001b[0m     \u001b[38;5;28;01mreturn\u001b[39;00m \u001b[38;5;28mself\u001b[39m\n\u001b[0;32m-> 2397\u001b[0m \u001b[38;5;28;01mreturn\u001b[39;00m \u001b[38;5;28;43mself\u001b[39;49m\u001b[38;5;241;43m.\u001b[39;49m\u001b[43m_call_as_normal\u001b[49m\u001b[43m(\u001b[49m\u001b[38;5;241;43m*\u001b[39;49m\u001b[43margs\u001b[49m\u001b[43m,\u001b[49m\u001b[43m \u001b[49m\u001b[38;5;241;43m*\u001b[39;49m\u001b[38;5;241;43m*\u001b[39;49m\u001b[43mkwargs\u001b[49m\u001b[43m)\u001b[49m\n",
      "File \u001b[0;32m~/Library/Python/3.9/lib/python/site-packages/numpy/lib/_function_base_impl.py:2390\u001b[0m, in \u001b[0;36mvectorize._call_as_normal\u001b[0;34m(self, *args, **kwargs)\u001b[0m\n\u001b[1;32m   2387\u001b[0m     vargs \u001b[38;5;241m=\u001b[39m [args[_i] \u001b[38;5;28;01mfor\u001b[39;00m _i \u001b[38;5;129;01min\u001b[39;00m inds]\n\u001b[1;32m   2388\u001b[0m     vargs\u001b[38;5;241m.\u001b[39mextend([kwargs[_n] \u001b[38;5;28;01mfor\u001b[39;00m _n \u001b[38;5;129;01min\u001b[39;00m names])\n\u001b[0;32m-> 2390\u001b[0m \u001b[38;5;28;01mreturn\u001b[39;00m \u001b[38;5;28;43mself\u001b[39;49m\u001b[38;5;241;43m.\u001b[39;49m\u001b[43m_vectorize_call\u001b[49m\u001b[43m(\u001b[49m\u001b[43mfunc\u001b[49m\u001b[38;5;241;43m=\u001b[39;49m\u001b[43mfunc\u001b[49m\u001b[43m,\u001b[49m\u001b[43m \u001b[49m\u001b[43margs\u001b[49m\u001b[38;5;241;43m=\u001b[39;49m\u001b[43mvargs\u001b[49m\u001b[43m)\u001b[49m\n",
      "File \u001b[0;32m~/Library/Python/3.9/lib/python/site-packages/numpy/lib/_function_base_impl.py:2480\u001b[0m, in \u001b[0;36mvectorize._vectorize_call\u001b[0;34m(self, func, args)\u001b[0m\n\u001b[1;32m   2477\u001b[0m \u001b[38;5;66;03m# Convert args to object arrays first\u001b[39;00m\n\u001b[1;32m   2478\u001b[0m inputs \u001b[38;5;241m=\u001b[39m [asanyarray(a, dtype\u001b[38;5;241m=\u001b[39m\u001b[38;5;28mobject\u001b[39m) \u001b[38;5;28;01mfor\u001b[39;00m a \u001b[38;5;129;01min\u001b[39;00m args]\n\u001b[0;32m-> 2480\u001b[0m outputs \u001b[38;5;241m=\u001b[39m \u001b[43mufunc\u001b[49m\u001b[43m(\u001b[49m\u001b[38;5;241;43m*\u001b[39;49m\u001b[43minputs\u001b[49m\u001b[43m)\u001b[49m\n\u001b[1;32m   2482\u001b[0m \u001b[38;5;28;01mif\u001b[39;00m ufunc\u001b[38;5;241m.\u001b[39mnout \u001b[38;5;241m==\u001b[39m \u001b[38;5;241m1\u001b[39m:\n\u001b[1;32m   2483\u001b[0m     res \u001b[38;5;241m=\u001b[39m asanyarray(outputs, dtype\u001b[38;5;241m=\u001b[39motypes[\u001b[38;5;241m0\u001b[39m])\n",
      "File \u001b[0;32m~/Desktop/PhD/oam_pheno/dijet_dsa/dsa_mc/dijet.py:897\u001b[0m, in \u001b[0;36mDIJET.get_IntegratedPDF.<locals>.<lambda>\u001b[0;34m(x)\u001b[0m\n\u001b[1;32m    895\u001b[0m \tifunc \u001b[38;5;241m=\u001b[39m \u001b[38;5;28;01mlambda\u001b[39;00m xm: fixed_quad(np\u001b[38;5;241m.\u001b[39mvectorize(\u001b[38;5;28;01mlambda\u001b[39;00m x: \u001b[38;5;241m0.5\u001b[39m\u001b[38;5;241m*\u001b[39m\u001b[38;5;28mself\u001b[39m\u001b[38;5;241m.\u001b[39mget_DeltaSigma(x, Q2) \u001b[38;5;241m+\u001b[39m \u001b[38;5;28mself\u001b[39m\u001b[38;5;241m.\u001b[39mget_DeltaG(x, Q2)), xmin, xm, n\u001b[38;5;241m=\u001b[39mnpoints)[\u001b[38;5;241m0\u001b[39m]\n\u001b[1;32m    896\u001b[0m \u001b[38;5;28;01melif\u001b[39;00m kind \u001b[38;5;241m==\u001b[39m \u001b[38;5;124m'\u001b[39m\u001b[38;5;124moam\u001b[39m\u001b[38;5;124m'\u001b[39m:\n\u001b[0;32m--> 897\u001b[0m \tifunc \u001b[38;5;241m=\u001b[39m \u001b[38;5;28;01mlambda\u001b[39;00m xm: fixed_quad(np\u001b[38;5;241m.\u001b[39mvectorize(\u001b[38;5;28;01mlambda\u001b[39;00m x: \u001b[38;5;28;43mself\u001b[39;49m\u001b[38;5;241;43m.\u001b[39;49m\u001b[43mget_Lsinglet\u001b[49m\u001b[43m(\u001b[49m\u001b[43mx\u001b[49m\u001b[43m,\u001b[49m\u001b[43m \u001b[49m\u001b[43mQ2\u001b[49m\u001b[43m)\u001b[49m \u001b[38;5;241m+\u001b[39m \u001b[38;5;28mself\u001b[39m\u001b[38;5;241m.\u001b[39mget_LG(x, Q2)), xmin, xm, n\u001b[38;5;241m=\u001b[39mnpoints)[\u001b[38;5;241m0\u001b[39m]\n\u001b[1;32m    898\u001b[0m \u001b[38;5;28;01melse\u001b[39;00m:\n\u001b[1;32m    899\u001b[0m \t\u001b[38;5;28;01mraise\u001b[39;00m \u001b[38;5;167;01mValueError\u001b[39;00m(\u001b[38;5;124mf\u001b[39m\u001b[38;5;124m'\u001b[39m\u001b[38;5;124mdont know \u001b[39m\u001b[38;5;132;01m{\u001b[39;00mkind\u001b[38;5;132;01m}\u001b[39;00m\u001b[38;5;124m'\u001b[39m)\n",
      "File \u001b[0;32m~/Desktop/PhD/oam_pheno/dijet_dsa/dsa_mc/dijet.py:871\u001b[0m, in \u001b[0;36mget_Lsinglet\u001b[0;34m(self, x, Q2)\u001b[0m\n\u001b[1;32m    867\u001b[0m \t\tLq \u001b[38;5;241m+\u001b[39m\u001b[38;5;241m=\u001b[39m \u001b[38;5;28mself\u001b[39m\u001b[38;5;241m.\u001b[39mdeta\u001b[38;5;241m*\u001b[39m\u001b[38;5;28mself\u001b[39m\u001b[38;5;241m.\u001b[39mdeta \u001b[38;5;241m*\u001b[39m G[i,j]\n\u001b[1;32m    869\u001b[0m Lq \u001b[38;5;241m*\u001b[39m\u001b[38;5;241m=\u001b[39m (\u001b[38;5;241m-\u001b[39m\u001b[38;5;241m1.\u001b[39m\u001b[38;5;241m/\u001b[39m(np\u001b[38;5;241m.\u001b[39mpi\u001b[38;5;241m*\u001b[39m\u001b[38;5;241m*\u001b[39m\u001b[38;5;241m2\u001b[39m))\n\u001b[0;32m--> 871\u001b[0m \u001b[38;5;28;01mreturn\u001b[39;00m Lq\n",
      "File \u001b[0;32m~/Desktop/PhD/oam_pheno/dijet_dsa/dsa_mc/dijet.py:863\u001b[0m, in \u001b[0;36mget_Lq\u001b[0;34m(self, x, Q2, flavor)\u001b[0m\n\u001b[1;32m    861\u001b[0m sf \u001b[38;5;241m=\u001b[39m \u001b[38;5;28mint\u001b[39m(np\u001b[38;5;241m.\u001b[39mceil(np\u001b[38;5;241m.\u001b[39msqrt(\u001b[38;5;28mself\u001b[39m\u001b[38;5;241m.\u001b[39mNc\u001b[38;5;241m/\u001b[39m(\u001b[38;5;241m2.\u001b[39m\u001b[38;5;241m*\u001b[39mnp\u001b[38;5;241m.\u001b[39mpi))\u001b[38;5;241m*\u001b[39mnp\u001b[38;5;241m.\u001b[39mlog(Q2\u001b[38;5;241m/\u001b[39m(\u001b[38;5;28mself\u001b[39m\u001b[38;5;241m.\u001b[39mlambdaIR\u001b[38;5;241m*\u001b[39m\u001b[38;5;241m*\u001b[39m\u001b[38;5;241m2\u001b[39m))\u001b[38;5;241m/\u001b[39m\u001b[38;5;28mself\u001b[39m\u001b[38;5;241m.\u001b[39mdeta))\n\u001b[1;32m    862\u001b[0m \u001b[38;5;28;01mfor\u001b[39;00m i \u001b[38;5;129;01min\u001b[39;00m \u001b[38;5;28mrange\u001b[39m(si, sf):\n\u001b[0;32m--> 863\u001b[0m \tjetai \u001b[38;5;241m=\u001b[39m i \u001b[38;5;241m+\u001b[39m eta0index\n\u001b[1;32m    864\u001b[0m \tjetaf \u001b[38;5;241m=\u001b[39m i \u001b[38;5;241m+\u001b[39m \u001b[38;5;28mint\u001b[39m(np\u001b[38;5;241m.\u001b[39mceil(eta\u001b[38;5;241m/\u001b[39m\u001b[38;5;28mself\u001b[39m\u001b[38;5;241m.\u001b[39mdeta))\n\u001b[1;32m    866\u001b[0m \t\u001b[38;5;28;01mfor\u001b[39;00m j \u001b[38;5;129;01min\u001b[39;00m \u001b[38;5;28mrange\u001b[39m(jetai, jetaf):\n",
      "\u001b[0;31mKeyboardInterrupt\u001b[0m: "
     ]
    }
   ],
   "source": [
    "# find moment params that satisfy \\int^0.1_10^-5 (OAM) dx < 0.5\n",
    "\n",
    "def get_param_guess():\n",
    "    ps = {}\n",
    "    for amp in ['I3u', 'I3d', 'I3s', 'I3T', 'I4', 'I5']:\n",
    "        ps[amp] = {}\n",
    "        for basis in ['eta', 's10', '1']:\n",
    "            ps[amp][basis] = np.random.uniform(-10, 10)\n",
    "    return ps\n",
    "\n",
    "Q2 = 10\n",
    "\n",
    "djs = {}\n",
    "djs['dis+sidis'] = dijet.DIJET(fit_type='dis')\n",
    "djs['+pp'] = dijet.DIJET(fit_type='pp')\n",
    "\n",
    "mparams = {}\n",
    "mparams['dis+sidis'] = []\n",
    "mparams['+pp'] = []\n",
    "\n",
    "for irep in range(1, 398):\n",
    "    for fit in ['+pp']:\n",
    "        print(irep)\n",
    "        \n",
    "        found_params = False\n",
    "        while not found_params:\n",
    "            guess = get_param_guess()\n",
    "            djs[fit].set_temp_params(guess, irep)\n",
    "\n",
    "            safe_replica = True\n",
    "            for xmax in [10**(-4), 10**(-3), 10**(-2), 10**(-1)]:\n",
    "                integrated_oam_value = djs[fit].get_IntegratedPDF('oam', Q2, xmax=xmax)\n",
    "                if np.abs(integrated_oam_value) > 1.0: safe_replica = False\n",
    "\n",
    "            if safe_replica: found_params = True\n",
    "                \n",
    "        mparams[fit].append(guess)\n"
   ]
  },
  {
   "cell_type": "code",
   "execution_count": 7,
   "id": "bd636161-802a-4477-8566-5e7e34662f3f",
   "metadata": {},
   "outputs": [
    {
     "data": {
      "text/plain": [
       "101"
      ]
     },
     "execution_count": 7,
     "metadata": {},
     "output_type": "execute_result"
    }
   ],
   "source": [
    "len(mparams['dis+sidis'])"
   ]
  },
  {
   "cell_type": "code",
   "execution_count": 9,
   "id": "299e1354-8b54-416e-b84e-c96e7ff8d8a6",
   "metadata": {},
   "outputs": [],
   "source": [
    "# reformat and save parameters\n",
    "par_arrs = {}\n",
    "par_arrs['dis+sidis'] = []\n",
    "par_arrs['+pp'] = []\n",
    "\n",
    "header = ['nrep'] + [f'{amp}{basis}' for amp in ['I3u', 'I3d', 'I3s', 'I3T', 'I4', 'I5'] for basis in ['eta', 's10', '1']]\n",
    "header_str = \",\".join(header)\n",
    "\n",
    "for irep in range(len(mparams['dis+sidis'])):\n",
    "    for fit in ['dis+sidis', '+pp']:\n",
    "        # if irep == 0: \n",
    "        #     par_arrs[fit].append(header)\n",
    "        \n",
    "        if fit == '+pp' and irep > 397: continue\n",
    "        # print(irep)\n",
    "        params = []\n",
    "        for amp in ['I3u', 'I3d', 'I3s', 'I3T', 'I4', 'I5']:\n",
    "            for basis in ['eta', 's10', '1']:\n",
    "                params.append(mparams[fit][irep][amp][basis])\n",
    "        par_arrs[fit].append([irep+1] + params)\n",
    "\n",
    "\n",
    "np.savetxt('moment_params_dis.csv', par_arrs['dis+sidis'], delimiter=\",\", header=header_str, comments='')\n",
    "np.savetxt('moment_params_pp.csv', par_arrs['+pp'], delimiter=\",\", header=header_str, comments='')"
   ]
  },
  {
   "cell_type": "code",
   "execution_count": 15,
   "id": "74000e6b-c0f3-4780-93c2-35bab9dfb553",
   "metadata": {},
   "outputs": [
    {
     "name": "stdout",
     "output_type": "stream",
     "text": [
      "      nrep    I3ueta    I3us10      I3u1    I3deta    I3ds10      I3d1  \\\n",
      "0      1.0  2.523849  2.572098  2.746114 -8.270481  5.173837  6.922209   \n",
      "1      2.0  2.152670  9.996407  6.106308  8.503620  4.409372  7.385422   \n",
      "2      3.0 -4.432514 -6.132048  7.568362  9.266310 -7.349874 -2.096130   \n",
      "3      4.0 -7.247517  0.674610 -8.342382  5.495344  2.144427 -4.128619   \n",
      "4      5.0 -1.434481 -5.337515  8.554989  4.815798 -8.768785  4.975701   \n",
      "..     ...       ...       ...       ...       ...       ...       ...   \n",
      "96    97.0  2.557494  2.334304 -6.454207  9.899939  2.102750  9.978124   \n",
      "97    98.0  1.730617  0.178111 -5.831335  1.033545 -1.549116  8.105624   \n",
      "98    99.0  1.785892  9.587630  1.662111 -1.696511  9.893021 -0.035573   \n",
      "99   100.0 -5.353304  6.651543  1.384365  2.176106 -6.227649  6.114506   \n",
      "100  101.0 -8.133833 -1.347383  7.600548  2.529769  6.492208  2.055193   \n",
      "\n",
      "       I3seta    I3ss10      I3s1    I3Teta    I3Ts10      I3T1     I4eta  \\\n",
      "0   -8.981557 -0.356087  9.140989  4.369979 -5.889753 -4.668580  1.408775   \n",
      "1    7.299727  2.754113 -5.137040 -1.988385 -3.180843 -4.568935 -1.025317   \n",
      "2   -0.931478 -2.378551 -8.343553 -7.060422 -5.114434 -1.113346 -3.397929   \n",
      "3   -2.298545 -9.567437 -5.392053 -2.559212  6.863803 -8.528715 -1.532138   \n",
      "4   -3.249416  8.098195  6.483344 -7.874426 -0.128827  6.570120 -6.293070   \n",
      "..        ...       ...       ...       ...       ...       ...       ...   \n",
      "96  -0.130797  5.925328  7.754476 -8.605556 -9.560343 -1.280582 -2.063589   \n",
      "97   0.244357  1.321788 -6.315973  6.102579 -0.737438 -3.137299  0.184916   \n",
      "98   6.974211 -3.751655 -9.986413  1.353188 -8.479246  3.091369 -0.834296   \n",
      "99   8.762281  2.596095  2.866596  4.637781 -4.613379 -4.040340 -0.564955   \n",
      "100  0.143388 -4.123008 -1.444951  2.438747  3.627817  5.059667  9.779804   \n",
      "\n",
      "        I4s10       I41     I5eta     I5s10       I51  \n",
      "0   -2.650419  0.112237  3.394289 -1.563662 -9.539844  \n",
      "1   -5.791887  1.284710  3.485508  7.203901  2.235236  \n",
      "2    4.175230  6.891915  0.604733 -5.159370 -9.593105  \n",
      "3   -2.078769  7.596269  7.379884 -8.502022 -8.566519  \n",
      "4    4.659596  8.122038  3.094185 -5.445215  7.850550  \n",
      "..        ...       ...       ...       ...       ...  \n",
      "96  -3.296002 -0.596336  1.133543  8.056561 -2.063948  \n",
      "97  -6.978674  7.850516  5.189181 -1.673376 -5.035162  \n",
      "98  -7.116698  5.589364  6.815467 -1.954565  8.480513  \n",
      "99  -4.832406  7.890001  1.863987 -0.671689  8.796686  \n",
      "100 -8.549994 -8.612953  2.669528 -7.179457 -9.687524  \n",
      "\n",
      "[101 rows x 19 columns]\n"
     ]
    }
   ],
   "source": [
    "import pandas as pd\n",
    "df = pd.read_csv('moment_params_dis.csv')\n"
   ]
  },
  {
   "cell_type": "code",
   "execution_count": null,
   "id": "d1de9246-0791-42cf-98bb-75098fae1fd3",
   "metadata": {},
   "outputs": [],
   "source": []
  }
 ],
 "metadata": {
  "kernelspec": {
   "display_name": "Python 3 (ipykernel)",
   "language": "python",
   "name": "python3"
  },
  "language_info": {
   "codemirror_mode": {
    "name": "ipython",
    "version": 3
   },
   "file_extension": ".py",
   "mimetype": "text/x-python",
   "name": "python",
   "nbconvert_exporter": "python",
   "pygments_lexer": "ipython3",
   "version": "3.9.6"
  }
 },
 "nbformat": 4,
 "nbformat_minor": 5
}
