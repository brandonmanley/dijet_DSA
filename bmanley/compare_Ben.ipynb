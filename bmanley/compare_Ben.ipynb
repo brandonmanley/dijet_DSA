{
 "cells": [
  {
   "cell_type": "code",
   "execution_count": 16,
   "id": "ed29b1ac-6837-4c01-8367-4b067bd9e1b6",
   "metadata": {},
   "outputs": [],
   "source": [
    "import numpy as np\n",
    "import matplotlib.pyplot as plt\n",
    "import sys\n",
    "sys.path.append('/Users/brandonmanley/Desktop/PhD/oam_pheno/dijet_dsa')\n",
    "import dsa_mc.dijet as dijet\n",
    "import random\n",
    "from IPython.display import display, Math\n",
    "from tabulate import tabulate\n",
    "\n",
    "# setup plotting\n",
    "plt.rcParams[\"font.family\"] = \"Times New Roman\"\n",
    "plt.rcParams[\"font.size\"] = 16\n",
    "plt.rcParams[\"legend.fontsize\"] = 12\n",
    "plt.rcParams[\"axes.labelsize\"] = 16  \n",
    "plt.rcParams[\"xtick.labelsize\"] = 14  \n",
    "plt.rcParams[\"ytick.labelsize\"] = 14\n",
    "plt.rcParams[\"axes.titlesize\"] = 18  \n",
    "plt.rcParams[\"text.usetex\"] = True\n",
    "plt.rcParams[\"text.latex.preamble\"] = r\"\\usepackage{amsmath}\"\n",
    "%config InlineBackend.figure_format = 'retina'"
   ]
  },
  {
   "cell_type": "code",
   "execution_count": 17,
   "id": "d8033858-691f-4233-88f8-69070aee32a6",
   "metadata": {},
   "outputs": [
    {
     "name": "stdout",
     "output_type": "stream",
     "text": [
      "--> loaded unpol. amp. data from /dipoles/narr_ymin4.61_ymax14.91_AAMS09.dat\n",
      "--> loaded pol. amp. data from /dipoles/d05-rc/\n",
      "--> loaded params from /dipoles/replica_params_ones.csv\n",
      "--> loaded random moment params from /dipoles/moment_params_ones.csv\n",
      "--> loaded replica 1\n"
     ]
    }
   ],
   "source": [
    "dj = dijet.DIJET(fit_type='ones', lambdaIR=0.3)\n"
   ]
  },
  {
   "cell_type": "code",
   "execution_count": 18,
   "id": "d4fde36b-980c-487e-b39d-9dd53c2d6f0e",
   "metadata": {},
   "outputs": [
    {
     "name": "stdout",
     "output_type": "stream",
     "text": [
      "-3.1843025584539455\n",
      "318.8384682301659\n"
     ]
    }
   ],
   "source": [
    "# matching fourier-bessel \n",
    "kins = dijet.Kinematics(x=0.01, z=0.01, Q=10, pT=10)\n",
    "print(dj.fourier_bessel(kins, [[1,1,1,1]], 'N'))\n",
    "print(dj.fourier_bessel(kins, [[1,1,1,1]], 'Qu'))"
   ]
  },
  {
   "cell_type": "code",
   "execution_count": 19,
   "id": "2d25b4c3-b558-4d6a-a2da-da44ead03428",
   "metadata": {},
   "outputs": [
    {
     "name": "stdout",
     "output_type": "stream",
     "text": [
      "A_TT -0.026270469113025767\n",
      "B_TT -96.50579016205518\n",
      "A_LT 22897.688201083827\n",
      "B_LT 51371.643465722766\n",
      "C_LT 11.83284395370989\n",
      "A_TT_unpolar -0.02627046915190597\n",
      "B_TT_unpolar -76.0768663289469\n",
      "A_TmT_unpolar -0.02627046915186424\n",
      "B_TmT_unpolar -191.7629516089064\n",
      "C_TmT_unpolar -0.02627046915187644\n",
      "A_LL_unpolar -0.02627046915520491\n",
      "B_LL_unpolar -0.026270469152466197\n"
     ]
    }
   ],
   "source": [
    "# matching coefficients\n",
    "kins = dijet.Kinematics(x=0.01, z=0.3, Q=10, pT=2, y=0.1, delta=0.5)\n",
    "kins.s = (kins.Q**2)/(kins.x*kins.y)\n",
    "\n",
    "coeffs = ['A_TT', 'B_TT', 'A_LT', 'B_LT', 'C_LT']\n",
    "coeffs += ['A_TT_unpolar', 'B_TT_unpolar', 'A_TmT_unpolar', 'B_TmT_unpolar', 'C_TmT_unpolar', 'A_LL_unpolar', 'B_LL_unpolar']\n",
    "coeff_values = {coeff: dj.get_coeff(coeff, kins) for coeff in coeffs}\n",
    "\n",
    "ben_coeffs = {\n",
    "    'A_TT': -8.494285245553912e-07,\n",
    "    'B_TT': -3.444049066922065e-08,\n",
    "    'A_LT': 2.356197548067663e-05,\n",
    "    'B_LT': 8.214268057773021e-05,\n",
    "    'C_LT': -9.16784882331537e-07,\n",
    "    'A_TT_unpolar': 1.4975559569144442e-06,\n",
    "    'B_TT_unpolar': -1.8843366541503538e-07,\n",
    "    'A_TmT_unpolar': -1.0844370722483909e-06,\n",
    "    'B_TmT_unpolar': 1.3645196461088766e-07,\n",
    "    'C_TmT_unpolar': -4.3377482889935633e-07,\n",
    "    'A_LL_unpolar': 1.615215249961842e-06,\n",
    "    'B_LL_unpolar':6.061657486205812e-07\n",
    "}\n",
    "\n",
    "for coeff in coeffs:\n",
    "    z = ((ben_coeffs[coeff] - coeff_values[coeff])/coeff_values[coeff])*100 \n",
    "    print(coeff, z)"
   ]
  },
  {
   "cell_type": "code",
   "execution_count": 20,
   "id": "d888aec6-9b3e-427b-adab-240400f0a224",
   "metadata": {},
   "outputs": [
    {
     "name": "stdout",
     "output_type": "stream",
     "text": [
      "1 -0.01893076 -0.01893076 0.0\n",
      "cos(phi_kp) 0.18539827 0.00080595 22903.7314\n",
      "cos(phi_Dp) -9.594e-05 -0.0027451 -96.5049\n",
      "cos(phi_Dp)cos(phi_kp) 0.08079284 0.00015692 51385.1689\n",
      "sin(phi_Dp)sin(phi_kp) -0.00090172 -0.0008061 11.8622\n"
     ]
    }
   ],
   "source": [
    "# matching final results\n",
    "kins = dijet.Kinematics(x=0.01, z=0.3, Q=10, pT=2, y=0.1, delta=0.5)\n",
    "kins.s = (kins.Q**2)/(kins.x*kins.y)\n",
    "\n",
    "weights = ['1', 'cos(phi_kp)', 'cos(phi_Dp)', 'cos(phi_Dp)cos(phi_kp)', 'sin(phi_Dp)sin(phi_kp)']\n",
    "nums = [dj.get_angle_integrated_xsec(kins, weight=w, kind='num') for w in weights]\n",
    "den = dj.get_angle_integrated_xsec(kins, weight='1', kind='den')\n",
    "corrs = {w: nums[iw]/den for iw, w in enumerate(weights)}\n",
    "\n",
    "\n",
    "ben_corrs = {\n",
    "    '1': -0.018930764988144055,\n",
    "    'cos(phi_kp)': 0.18539827064591968,\n",
    "    'cos(phi_Dp)': -9.594462866617396e-05,\n",
    "    'cos(phi_Dp)cos(phi_kp)': 0.08079283790222129,\n",
    "    'sin(phi_Dp)sin(phi_kp)': -0.0009017194455850274\n",
    "}\n",
    "\n",
    "\n",
    "for w in weights:\n",
    "    z = ((ben_corrs[w] - corrs[w])/corrs[w])*100 \n",
    "    print(w, round(ben_corrs[w],8) , round(corrs[w], 8), round(z, 4))"
   ]
  },
  {
   "cell_type": "code",
   "execution_count": 23,
   "id": "92f2b979-33c2-40fe-9b6c-b7f41a94a2fb",
   "metadata": {},
   "outputs": [
    {
     "name": "stdout",
     "output_type": "stream",
     "text": [
      "eqn.             ben            me       ben/me\n",
      "------  ------------  ------------  -----------\n",
      "13a     -8.49429e-07  -8.49652e-07    0.999737\n",
      "13b     -3.44405e-08  -9.85645e-07    0.0349421\n",
      "15a      2.3562e-05    1.02454e-07  229.977\n",
      "15b      8.21427e-05   1.59588e-07  514.716\n",
      "15c     -9.16785e-07  -8.19781e-07    1.11833\n",
      "23a      1.49756e-06   1.49795e-06    0.999737\n",
      "23b     -1.88434e-07  -7.87663e-07    0.239231\n",
      "23c     -1.08444e-06  -1.08472e-06    0.999737\n",
      "23d      1.36452e-07  -1.487e-07     -0.91763\n",
      "23e     -4.33775e-07  -4.33889e-07    0.999737\n",
      "23f      1.61522e-06   1.61564e-06    0.999737\n",
      "23g      6.06166e-07   6.06325e-07    0.999737\n",
      "25a     -0.0189308    -0.0189308      1\n",
      "25b      0.185398      0.000805949  230.037\n",
      "25c     -9.59446e-05  -0.0027451      0.0349513\n",
      "25d      0.0807928     0.000156924  514.852\n",
      "25e     -0.000901719  -0.000806098    1.11862\n"
     ]
    }
   ],
   "source": [
    "coeff_eqs = ['13a','13b','15a','15b','15c','23a','23b', '23c','23d','23e','23f','23g']\n",
    "corr_eqs = ['25a','25b','25c','25d','25e']\n",
    "\n",
    "table_data = [[eq, bv, mv, bv/mv] for eq, bv, mv in zip(coeff_eqs, ben_coeffs.values(), coeff_values.values())]\n",
    "table_data += [[eq, bv, mv, bv/mv] for eq, bv, mv in zip(corr_eqs, ben_corrs.values(), corrs.values())]\n",
    "\n",
    "headers = ['eqn.', 'ben', 'me', 'ben/me']\n",
    "\n",
    "# print(tabulate(table_data, headers=headers, tablefmt=\"grid\"))\n",
    "print(tabulate(table_data, headers=headers))\n",
    "\n",
    "\n"
   ]
  },
  {
   "cell_type": "code",
   "execution_count": null,
   "id": "1b15a1d1-96ed-45c4-ae7c-dbbd4781f56a",
   "metadata": {},
   "outputs": [],
   "source": []
  }
 ],
 "metadata": {
  "kernelspec": {
   "display_name": "Python 3 (ipykernel)",
   "language": "python",
   "name": "python3"
  },
  "language_info": {
   "codemirror_mode": {
    "name": "ipython",
    "version": 3
   },
   "file_extension": ".py",
   "mimetype": "text/x-python",
   "name": "python",
   "nbconvert_exporter": "python",
   "pygments_lexer": "ipython3",
   "version": "3.9.6"
  }
 },
 "nbformat": 4,
 "nbformat_minor": 5
}
