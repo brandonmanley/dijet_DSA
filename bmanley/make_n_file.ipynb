{
 "cells": [
  {
   "cell_type": "code",
   "execution_count": 7,
   "id": "58e24abe-aa67-4d5c-8c2d-ce92fd20312b",
   "metadata": {},
   "outputs": [],
   "source": [
    "import numpy as np\n",
    "import pandas as pd"
   ]
  },
  {
   "cell_type": "code",
   "execution_count": 9,
   "id": "5c353172-9422-4a35-9ffc-3f9c7329f416",
   "metadata": {},
   "outputs": [],
   "source": [
    "#--load unpolarized dipole amplitude\n",
    "\n",
    "# unpolar_input_file = '../dsa_mc/dipoles/n_ymin4.61_ymax9.81_AAMS09.dat'\n",
    "unpolar_input_file = '../dsa_mc/dipoles/n_ymin4.61_ymax9.81_CKM24.dat'\n",
    "# unpolar_input_file = '../dsa_mc/dipoles/n_ymin4.61_ymax9.81_Qs2_0.3.dat'\n",
    "\n",
    "ndipole = pd.read_csv(unpolar_input_file, sep=r'\\s+', header=None, names=['y', 'ln(r)', 'N'])"
   ]
  },
  {
   "cell_type": "code",
   "execution_count": 11,
   "id": "76acfe6e-40bd-4ea7-a7c1-6dfadb372c8d",
   "metadata": {},
   "outputs": [
    {
     "data": {
      "text/html": [
       "<div>\n",
       "<style scoped>\n",
       "    .dataframe tbody tr th:only-of-type {\n",
       "        vertical-align: middle;\n",
       "    }\n",
       "\n",
       "    .dataframe tbody tr th {\n",
       "        vertical-align: top;\n",
       "    }\n",
       "\n",
       "    .dataframe thead th {\n",
       "        text-align: right;\n",
       "    }\n",
       "</style>\n",
       "<table border=\"1\" class=\"dataframe\">\n",
       "  <thead>\n",
       "    <tr style=\"text-align: right;\">\n",
       "      <th></th>\n",
       "      <th>y</th>\n",
       "      <th>ln(r)</th>\n",
       "      <th>N</th>\n",
       "    </tr>\n",
       "  </thead>\n",
       "  <tbody>\n",
       "    <tr>\n",
       "      <th>0</th>\n",
       "      <td>4.61</td>\n",
       "      <td>-13.81</td>\n",
       "      <td>2.200110e-13</td>\n",
       "    </tr>\n",
       "    <tr>\n",
       "      <th>1</th>\n",
       "      <td>4.61</td>\n",
       "      <td>-13.80</td>\n",
       "      <td>2.244640e-13</td>\n",
       "    </tr>\n",
       "    <tr>\n",
       "      <th>2</th>\n",
       "      <td>4.61</td>\n",
       "      <td>-13.79</td>\n",
       "      <td>2.289680e-13</td>\n",
       "    </tr>\n",
       "    <tr>\n",
       "      <th>3</th>\n",
       "      <td>4.61</td>\n",
       "      <td>-13.78</td>\n",
       "      <td>2.335280e-13</td>\n",
       "    </tr>\n",
       "    <tr>\n",
       "      <th>4</th>\n",
       "      <td>4.61</td>\n",
       "      <td>-13.77</td>\n",
       "      <td>2.381480e-13</td>\n",
       "    </tr>\n",
       "    <tr>\n",
       "      <th>...</th>\n",
       "      <td>...</td>\n",
       "      <td>...</td>\n",
       "      <td>...</td>\n",
       "    </tr>\n",
       "    <tr>\n",
       "      <th>957315</th>\n",
       "      <td>9.80</td>\n",
       "      <td>4.55</td>\n",
       "      <td>1.000000e+00</td>\n",
       "    </tr>\n",
       "    <tr>\n",
       "      <th>957316</th>\n",
       "      <td>9.80</td>\n",
       "      <td>4.56</td>\n",
       "      <td>1.000000e+00</td>\n",
       "    </tr>\n",
       "    <tr>\n",
       "      <th>957317</th>\n",
       "      <td>9.80</td>\n",
       "      <td>4.57</td>\n",
       "      <td>1.000000e+00</td>\n",
       "    </tr>\n",
       "    <tr>\n",
       "      <th>957318</th>\n",
       "      <td>9.80</td>\n",
       "      <td>4.58</td>\n",
       "      <td>1.000000e+00</td>\n",
       "    </tr>\n",
       "    <tr>\n",
       "      <th>957319</th>\n",
       "      <td>9.80</td>\n",
       "      <td>4.59</td>\n",
       "      <td>1.000000e+00</td>\n",
       "    </tr>\n",
       "  </tbody>\n",
       "</table>\n",
       "<p>957320 rows × 3 columns</p>\n",
       "</div>"
      ],
      "text/plain": [
       "           y  ln(r)             N\n",
       "0       4.61 -13.81  2.200110e-13\n",
       "1       4.61 -13.80  2.244640e-13\n",
       "2       4.61 -13.79  2.289680e-13\n",
       "3       4.61 -13.78  2.335280e-13\n",
       "4       4.61 -13.77  2.381480e-13\n",
       "...      ...    ...           ...\n",
       "957315  9.80   4.55  1.000000e+00\n",
       "957316  9.80   4.56  1.000000e+00\n",
       "957317  9.80   4.57  1.000000e+00\n",
       "957318  9.80   4.58  1.000000e+00\n",
       "957319  9.80   4.59  1.000000e+00\n",
       "\n",
       "[957320 rows x 3 columns]"
      ]
     },
     "execution_count": 11,
     "metadata": {},
     "output_type": "execute_result"
    }
   ],
   "source": [
    "ndipole"
   ]
  },
  {
   "cell_type": "code",
   "execution_count": 13,
   "id": "7846284f-60da-4116-99be-52b86cc68ada",
   "metadata": {},
   "outputs": [],
   "source": [
    "ndipole['y'] = ndipole['y'].round(2)\n",
    "ndipole['ln(r)'] = ndipole['ln(r)'].round(2)\n",
    "\n",
    "pivoted = ndipole.pivot(index='y', columns='ln(r)', values='N')\n",
    "n_arr = pivoted.to_numpy()\n",
    "\n",
    "np.savetxt('../dsa_mc/dipoles/narr_ymin4.61_ymax9.81_CKM24.dat', n_arr)\n"
   ]
  }
 ],
 "metadata": {
  "kernelspec": {
   "display_name": "Python 3 (ipykernel)",
   "language": "python",
   "name": "python3"
  },
  "language_info": {
   "codemirror_mode": {
    "name": "ipython",
    "version": 3
   },
   "file_extension": ".py",
   "mimetype": "text/x-python",
   "name": "python",
   "nbconvert_exporter": "python",
   "pygments_lexer": "ipython3",
   "version": "3.12.4"
  }
 },
 "nbformat": 4,
 "nbformat_minor": 5
}
