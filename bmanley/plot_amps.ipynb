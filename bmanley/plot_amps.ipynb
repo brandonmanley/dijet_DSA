{
 "cells": [
  {
   "cell_type": "code",
   "execution_count": 1,
   "id": "3f6ed751-6553-48ba-9841-a9fc8b9b6893",
   "metadata": {},
   "outputs": [],
   "source": [
    "import numpy as np\n",
    "import matplotlib.pyplot as plt\n",
    "import pandas as pd\n",
    "%matplotlib inline\n",
    "from matplotlib.ticker import MaxNLocator\n",
    "import sys,os\n",
    "sys.path.append('/Users/brandonmanley/Desktop/PhD/dijet_dsa/bmanley')\n",
    "import dsa_mc.dijet_utils as dutils"
   ]
  },
  {
   "cell_type": "code",
   "execution_count": 3,
   "id": "525eeb54-33ec-4130-8cca-05463d595eeb",
   "metadata": {},
   "outputs": [],
   "source": [
    "dj = dutils.DijetXsec()"
   ]
  },
  {
   "cell_type": "code",
   "execution_count": 4,
   "id": "a1654a7d-98d5-4345-b23c-37691bc97ee3",
   "metadata": {},
   "outputs": [],
   "source": [
    "ndipole, pdipoles = dj.get_dipoles()\n",
    "int_ndipole, int_pdipoles = dj.get_int_dipoles()\n"
   ]
  },
  {
   "cell_type": "code",
   "execution_count": 17,
   "id": "ede459dd-656e-4b64-9394-7a1ac31d3331",
   "metadata": {},
   "outputs": [],
   "source": [
    "Npoints = np.array([ndipole['y'].to_numpy(), ndipole['ln(r)'].to_numpy()]).T\n",
    "int_dfN = pd.DataFrame(np.array([ndipole['y'].to_numpy(), ndipole['ln(r)'].to_numpy(), int_ndipole(Npoints)]).T, columns=['y', 'ln(r)', 'N[ln(r)]'])\n",
    "\n",
    "\n",
    "Ppoints = np.array([pdipoles['s10'].to_numpy(), pdipoles['eta'].to_numpy()]).T\n",
    "int_dfQu = pd.DataFrame(np.array([pdipoles['s10'].to_numpy(), pdipoles['eta'].to_numpy(), int_pdipoles['Qu'](Ppoints)]).T, columns=['s10', 'eta', 'Qu'])\n",
    "\n"
   ]
  },
  {
   "cell_type": "code",
   "execution_count": 27,
   "id": "c5a19521-297f-4feb-9da8-6a04c7f54293",
   "metadata": {},
   "outputs": [
    {
     "data": {
      "text/plain": [
       "-18003439925.25"
      ]
     },
     "execution_count": 27,
     "metadata": {},
     "output_type": "execute_result"
    }
   ],
   "source": [
    "max(int_dfN['N[ln(r)]'] - ndipole['N[ln(r)]'])\n",
    "min(int_dfQu['Qu'] - pdipoles['Qu'])"
   ]
  },
  {
   "cell_type": "code",
   "execution_count": 83,
   "id": "35ddab8f-7651-4734-b40d-e75e106f7e49",
   "metadata": {},
   "outputs": [
    {
     "data": {
      "text/plain": [
       "[<matplotlib.lines.Line2D at 0x300509640>]"
      ]
     },
     "execution_count": 83,
     "metadata": {},
     "output_type": "execute_result"
    },
    {
     "data": {
      "image/png": "[encoded data removed]",
      "text/plain": [
       "<Figure size 640x480 with 1 Axes>"
      ]
     },
     "metadata": {},
     "output_type": "display_data"
    }
   ],
   "source": [
    "# plot dipole at \\eta = test value\n",
    "bas = np.sqrt(3/(2*np.pi))\n",
    "test_s = 100**2\n",
    "test_y = 0.9\n",
    "target_eta = round((bas/0.05)*np.log((test_s*test_y)/(0.3**2)))*0.05\n",
    "f_pdipoles = pdipoles[np.isclose(pdipoles['eta'], target_eta, atol=0.05*0.5)]\n",
    "\n",
    "\n",
    "s10 = f_pdipoles['s10'].to_numpy()\n",
    "amp_values = f_pdipoles['G2'].to_numpy()\n",
    "\n",
    "eta_values = np.full_like(s10, target_eta)\n",
    "int_amp_values = int_pdipoles['Qu'](np.array([s10, eta_values]).T)\n",
    "\n",
    "# plt.plot(s10, amp_values- int_amp_values)\n",
    "plt.plot(s10, np.log(np.abs(amp_values)))\n",
    "\n"
   ]
  },
  {
   "cell_type": "code",
   "execution_count": 65,
   "id": "f4d8dec2-fe73-49d4-89df-7d996c89d782",
   "metadata": {},
   "outputs": [
    {
     "data": {
      "text/html": [
       "<div>\n",
       "<style scoped>\n",
       "    .dataframe tbody tr th:only-of-type {\n",
       "        vertical-align: middle;\n",
       "    }\n",
       "\n",
       "    .dataframe tbody tr th {\n",
       "        vertical-align: top;\n",
       "    }\n",
       "\n",
       "    .dataframe thead th {\n",
       "        text-align: right;\n",
       "    }\n",
       "</style>\n",
       "<table border=\"1\" class=\"dataframe\">\n",
       "  <thead>\n",
       "    <tr style=\"text-align: right;\">\n",
       "      <th></th>\n",
       "      <th>s10</th>\n",
       "      <th>eta</th>\n",
       "      <th>Qu</th>\n",
       "      <th>Qd</th>\n",
       "      <th>Qs</th>\n",
       "      <th>G2</th>\n",
       "      <th>I3u</th>\n",
       "      <th>I3d</th>\n",
       "      <th>I3s</th>\n",
       "      <th>I4</th>\n",
       "      <th>I5</th>\n",
       "    </tr>\n",
       "  </thead>\n",
       "  <tbody>\n",
       "    <tr>\n",
       "      <th>158</th>\n",
       "      <td>0.05</td>\n",
       "      <td>7.95</td>\n",
       "      <td>-3.484297e+08</td>\n",
       "      <td>-3.484412e+08</td>\n",
       "      <td>-3.484236e+08</td>\n",
       "      <td>-1.502932e+00</td>\n",
       "      <td>3.768292e+02</td>\n",
       "      <td>3.769182e+02</td>\n",
       "      <td>3.768441e+02</td>\n",
       "      <td>-8.684245</td>\n",
       "      <td>-2.951175</td>\n",
       "    </tr>\n",
       "    <tr>\n",
       "      <th>459</th>\n",
       "      <td>0.10</td>\n",
       "      <td>7.95</td>\n",
       "      <td>-3.246313e+08</td>\n",
       "      <td>-3.246428e+08</td>\n",
       "      <td>-3.246252e+08</td>\n",
       "      <td>-1.221073e+07</td>\n",
       "      <td>1.602679e+07</td>\n",
       "      <td>1.602679e+07</td>\n",
       "      <td>1.602679e+07</td>\n",
       "      <td>6.260007</td>\n",
       "      <td>-305271.116369</td>\n",
       "    </tr>\n",
       "    <tr>\n",
       "      <th>760</th>\n",
       "      <td>0.15</td>\n",
       "      <td>7.95</td>\n",
       "      <td>-3.024992e+08</td>\n",
       "      <td>-3.025107e+08</td>\n",
       "      <td>-3.024932e+08</td>\n",
       "      <td>-2.272029e+07</td>\n",
       "      <td>2.997408e+07</td>\n",
       "      <td>2.997408e+07</td>\n",
       "      <td>2.997408e+07</td>\n",
       "      <td>-3480.728351</td>\n",
       "      <td>-433733.397410</td>\n",
       "    </tr>\n",
       "    <tr>\n",
       "      <th>1061</th>\n",
       "      <td>0.20</td>\n",
       "      <td>7.95</td>\n",
       "      <td>-2.818807e+08</td>\n",
       "      <td>-2.818921e+08</td>\n",
       "      <td>-2.818746e+08</td>\n",
       "      <td>-3.167576e+07</td>\n",
       "      <td>4.197611e+07</td>\n",
       "      <td>4.197611e+07</td>\n",
       "      <td>4.197611e+07</td>\n",
       "      <td>-7415.227482</td>\n",
       "      <td>-499596.781738</td>\n",
       "    </tr>\n",
       "    <tr>\n",
       "      <th>1362</th>\n",
       "      <td>0.25</td>\n",
       "      <td>7.95</td>\n",
       "      <td>-2.626470e+08</td>\n",
       "      <td>-2.626584e+08</td>\n",
       "      <td>-2.626409e+08</td>\n",
       "      <td>-3.921815e+07</td>\n",
       "      <td>5.217991e+07</td>\n",
       "      <td>5.217991e+07</td>\n",
       "      <td>5.217991e+07</td>\n",
       "      <td>-11125.777593</td>\n",
       "      <td>-533286.178345</td>\n",
       "    </tr>\n",
       "    <tr>\n",
       "      <th>...</th>\n",
       "      <td>...</td>\n",
       "      <td>...</td>\n",
       "      <td>...</td>\n",
       "      <td>...</td>\n",
       "      <td>...</td>\n",
       "      <td>...</td>\n",
       "      <td>...</td>\n",
       "      <td>...</td>\n",
       "      <td>...</td>\n",
       "      <td>...</td>\n",
       "      <td>...</td>\n",
       "    </tr>\n",
       "    <tr>\n",
       "      <th>89254</th>\n",
       "      <td>14.85</td>\n",
       "      <td>7.95</td>\n",
       "      <td>1.472277e+03</td>\n",
       "      <td>-1.579804e+03</td>\n",
       "      <td>1.651192e+03</td>\n",
       "      <td>-4.232535e+02</td>\n",
       "      <td>-1.209340e+03</td>\n",
       "      <td>-1.225962e+03</td>\n",
       "      <td>-2.697648e+03</td>\n",
       "      <td>3547.726054</td>\n",
       "      <td>1083.736137</td>\n",
       "    </tr>\n",
       "    <tr>\n",
       "      <th>89555</th>\n",
       "      <td>14.90</td>\n",
       "      <td>7.95</td>\n",
       "      <td>1.477384e+03</td>\n",
       "      <td>-1.589024e+03</td>\n",
       "      <td>1.653464e+03</td>\n",
       "      <td>-4.246179e+02</td>\n",
       "      <td>-1.215514e+03</td>\n",
       "      <td>-1.230238e+03</td>\n",
       "      <td>-2.704250e+03</td>\n",
       "      <td>3555.930271</td>\n",
       "      <td>1089.917813</td>\n",
       "    </tr>\n",
       "    <tr>\n",
       "      <th>89856</th>\n",
       "      <td>14.95</td>\n",
       "      <td>7.95</td>\n",
       "      <td>1.482491e+03</td>\n",
       "      <td>-1.598245e+03</td>\n",
       "      <td>1.655737e+03</td>\n",
       "      <td>-4.259823e+02</td>\n",
       "      <td>-1.221688e+03</td>\n",
       "      <td>-1.234515e+03</td>\n",
       "      <td>-2.710852e+03</td>\n",
       "      <td>3564.134488</td>\n",
       "      <td>1096.099488</td>\n",
       "    </tr>\n",
       "    <tr>\n",
       "      <th>90157</th>\n",
       "      <td>15.00</td>\n",
       "      <td>7.95</td>\n",
       "      <td>1.487597e+03</td>\n",
       "      <td>-1.607465e+03</td>\n",
       "      <td>1.658009e+03</td>\n",
       "      <td>-4.273467e+02</td>\n",
       "      <td>-1.227862e+03</td>\n",
       "      <td>-1.238791e+03</td>\n",
       "      <td>-2.717455e+03</td>\n",
       "      <td>3572.338705</td>\n",
       "      <td>1102.281164</td>\n",
       "    </tr>\n",
       "    <tr>\n",
       "      <th>90458</th>\n",
       "      <td>15.05</td>\n",
       "      <td>7.95</td>\n",
       "      <td>1.492704e+03</td>\n",
       "      <td>-1.616685e+03</td>\n",
       "      <td>1.660282e+03</td>\n",
       "      <td>-4.287111e+02</td>\n",
       "      <td>-1.234036e+03</td>\n",
       "      <td>-1.243067e+03</td>\n",
       "      <td>-2.724057e+03</td>\n",
       "      <td>3580.542922</td>\n",
       "      <td>1108.462840</td>\n",
       "    </tr>\n",
       "  </tbody>\n",
       "</table>\n",
       "<p>301 rows × 11 columns</p>\n",
       "</div>"
      ],
      "text/plain": [
       "         s10   eta            Qu            Qd            Qs            G2  \\\n",
       "158     0.05  7.95 -3.484297e+08 -3.484412e+08 -3.484236e+08 -1.502932e+00   \n",
       "459     0.10  7.95 -3.246313e+08 -3.246428e+08 -3.246252e+08 -1.221073e+07   \n",
       "760     0.15  7.95 -3.024992e+08 -3.025107e+08 -3.024932e+08 -2.272029e+07   \n",
       "1061    0.20  7.95 -2.818807e+08 -2.818921e+08 -2.818746e+08 -3.167576e+07   \n",
       "1362    0.25  7.95 -2.626470e+08 -2.626584e+08 -2.626409e+08 -3.921815e+07   \n",
       "...      ...   ...           ...           ...           ...           ...   \n",
       "89254  14.85  7.95  1.472277e+03 -1.579804e+03  1.651192e+03 -4.232535e+02   \n",
       "89555  14.90  7.95  1.477384e+03 -1.589024e+03  1.653464e+03 -4.246179e+02   \n",
       "89856  14.95  7.95  1.482491e+03 -1.598245e+03  1.655737e+03 -4.259823e+02   \n",
       "90157  15.00  7.95  1.487597e+03 -1.607465e+03  1.658009e+03 -4.273467e+02   \n",
       "90458  15.05  7.95  1.492704e+03 -1.616685e+03  1.660282e+03 -4.287111e+02   \n",
       "\n",
       "                I3u           I3d           I3s            I4             I5  \n",
       "158    3.768292e+02  3.769182e+02  3.768441e+02     -8.684245      -2.951175  \n",
       "459    1.602679e+07  1.602679e+07  1.602679e+07      6.260007 -305271.116369  \n",
       "760    2.997408e+07  2.997408e+07  2.997408e+07  -3480.728351 -433733.397410  \n",
       "1061   4.197611e+07  4.197611e+07  4.197611e+07  -7415.227482 -499596.781738  \n",
       "1362   5.217991e+07  5.217991e+07  5.217991e+07 -11125.777593 -533286.178345  \n",
       "...             ...           ...           ...           ...            ...  \n",
       "89254 -1.209340e+03 -1.225962e+03 -2.697648e+03   3547.726054    1083.736137  \n",
       "89555 -1.215514e+03 -1.230238e+03 -2.704250e+03   3555.930271    1089.917813  \n",
       "89856 -1.221688e+03 -1.234515e+03 -2.710852e+03   3564.134488    1096.099488  \n",
       "90157 -1.227862e+03 -1.238791e+03 -2.717455e+03   3572.338705    1102.281164  \n",
       "90458 -1.234036e+03 -1.243067e+03 -2.724057e+03   3580.542922    1108.462840  \n",
       "\n",
       "[301 rows x 11 columns]"
      ]
     },
     "execution_count": 65,
     "metadata": {},
     "output_type": "execute_result"
    }
   ],
   "source": [
    "f_pdipoles"
   ]
  },
  {
   "cell_type": "code",
   "execution_count": 9,
   "id": "d8afa51c-2a68-447f-8968-3a494aaf7716",
   "metadata": {},
   "outputs": [
    {
     "data": {
      "text/plain": [
       "array([0.        , 0.6981317 , 1.3962634 , 2.0943951 , 2.7925268 ,\n",
       "       3.4906585 , 4.1887902 , 4.88692191, 5.58505361, 6.28318531])"
      ]
     },
     "execution_count": 9,
     "metadata": {},
     "output_type": "execute_result"
    }
   ],
   "source": [
    "import numpy as np\n",
    "np.linspace(0, 2*np.pi, 10)\n",
    "np.linspace(0, 2*np.pi, 10)"
   ]
  },
  {
   "cell_type": "code",
   "execution_count": 13,
   "id": "903bb4ee-b3fa-48e9-935c-692afb82ba7f",
   "metadata": {},
   "outputs": [],
   "source": [
    "data = np.load('../dsa_mc/test_fit.npy')\n",
    "np.savetxt('test_fit.dat', data)"
   ]
  },
  {
   "cell_type": "code",
   "execution_count": null,
   "id": "ee3b09db-6e45-45ed-935c-577c909b52ce",
   "metadata": {},
   "outputs": [],
   "source": []
  }
 ],
 "metadata": {
  "kernelspec": {
   "display_name": "Python 3 (ipykernel)",
   "language": "python",
   "name": "python3"
  },
  "language_info": {
   "codemirror_mode": {
    "name": "ipython",
    "version": 3
   },
   "file_extension": ".py",
   "mimetype": "text/x-python",
   "name": "python",
   "nbconvert_exporter": "python",
   "pygments_lexer": "ipython3",
   "version": "3.9.6"
  }
 },
 "nbformat": 4,
 "nbformat_minor": 5
}
