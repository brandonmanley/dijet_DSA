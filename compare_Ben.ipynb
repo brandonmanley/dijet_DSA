{
 "cells": [
  {
   "cell_type": "code",
   "execution_count": 1,
   "id": "ed29b1ac-6837-4c01-8367-4b067bd9e1b6",
   "metadata": {},
   "outputs": [],
   "source": [
    "import numpy as np\n",
    "import matplotlib.pyplot as plt\n",
    "import sys\n",
    "import dijet\n",
    "import random\n",
    "from IPython.display import display, Math\n",
    "from tabulate import tabulate\n",
    "\n",
    "# setup plotting\n",
    "plt.rcParams[\"font.family\"] = \"Times New Roman\"\n",
    "plt.rcParams[\"font.size\"] = 16\n",
    "plt.rcParams[\"legend.fontsize\"] = 12\n",
    "plt.rcParams[\"axes.labelsize\"] = 16  \n",
    "plt.rcParams[\"xtick.labelsize\"] = 14  \n",
    "plt.rcParams[\"ytick.labelsize\"] = 14\n",
    "plt.rcParams[\"axes.titlesize\"] = 18  \n",
    "plt.rcParams[\"text.usetex\"] = True\n",
    "plt.rcParams[\"text.latex.preamble\"] = r\"\\usepackage{amsmath}\"\n",
    "%config InlineBackend.figure_format = 'retina'"
   ]
  },
  {
   "cell_type": "code",
   "execution_count": 2,
   "id": "d4fde36b-980c-487e-b39d-9dd53c2d6f0e",
   "metadata": {},
   "outputs": [
    {
     "ename": "NameError",
     "evalue": "name 'dj' is not defined",
     "output_type": "error",
     "traceback": [
      "\u001b[0;31m---------------------------------------------------------------------------\u001b[0m",
      "\u001b[0;31mNameError\u001b[0m                                 Traceback (most recent call last)",
      "Cell \u001b[0;32mIn[2], line 3\u001b[0m\n\u001b[1;32m      1\u001b[0m \u001b[38;5;66;03m# matching fourier-bessel \u001b[39;00m\n\u001b[1;32m      2\u001b[0m kins \u001b[38;5;241m=\u001b[39m dijet\u001b[38;5;241m.\u001b[39mKinematics(x\u001b[38;5;241m=\u001b[39m\u001b[38;5;241m0.01\u001b[39m, z\u001b[38;5;241m=\u001b[39m\u001b[38;5;241m0.01\u001b[39m, Q\u001b[38;5;241m=\u001b[39m\u001b[38;5;241m10\u001b[39m, pT\u001b[38;5;241m=\u001b[39m\u001b[38;5;241m10\u001b[39m)\n\u001b[0;32m----> 3\u001b[0m \u001b[38;5;28mprint\u001b[39m(\u001b[43mdj\u001b[49m\u001b[38;5;241m.\u001b[39mfourier_bessel(kins, [[\u001b[38;5;241m1\u001b[39m,\u001b[38;5;241m1\u001b[39m,\u001b[38;5;241m1\u001b[39m,\u001b[38;5;241m1\u001b[39m]], \u001b[38;5;124m'\u001b[39m\u001b[38;5;124mN\u001b[39m\u001b[38;5;124m'\u001b[39m))\n\u001b[1;32m      4\u001b[0m \u001b[38;5;28mprint\u001b[39m(dj\u001b[38;5;241m.\u001b[39mfourier_bessel(kins, [[\u001b[38;5;241m1\u001b[39m,\u001b[38;5;241m1\u001b[39m,\u001b[38;5;241m1\u001b[39m,\u001b[38;5;241m1\u001b[39m]], \u001b[38;5;124m'\u001b[39m\u001b[38;5;124mQu\u001b[39m\u001b[38;5;124m'\u001b[39m))\n",
      "\u001b[0;31mNameError\u001b[0m: name 'dj' is not defined"
     ]
    }
   ],
   "source": [
    "# matching fourier-bessel \n",
    "kins = dijet.Kinematics(x=0.01, z=0.01, Q=10, pT=10)\n",
    "print(dj.fourier_bessel(kins, [[1,1,1,1]], 'N'))\n",
    "print(dj.fourier_bessel(kins, [[1,1,1,1]], 'Qu'))"
   ]
  },
  {
   "cell_type": "code",
   "execution_count": 4,
   "id": "2d25b4c3-b558-4d6a-a2da-da44ead03428",
   "metadata": {},
   "outputs": [
    {
     "name": "stdout",
     "output_type": "stream",
     "text": [
      "N_11 0.07218212952448869\n",
      "N_00 0.0880932668706548\n",
      "G2_11 18.128900397854043\n",
      "Qs_11 22.84417434459833\n",
      "Qs_00 27.852671486809697\n",
      "Qu_11 22.84417434459833\n",
      "Qu_00 27.852671486809697\n",
      "Qd_11 22.84417434459833\n",
      "Qd_00 27.852671486809697\n",
      "A_TT -0.026270469113025767\n",
      "B_TT -0.026270469103184403\n",
      "A_LT -0.026270469110135003\n",
      "B_LT -0.026270469107837025\n",
      "C_LT -0.026270469114091234\n",
      "A_TT_unpolar -0.02627046915190597\n",
      "B_TT_unpolar -0.026270469157515783\n",
      "A_TmT_unpolar -0.02627046915186424\n",
      "B_TmT_unpolar -0.026270469157510436\n",
      "C_TmT_unpolar -0.02627046915187644\n",
      "A_LL_unpolar -0.02627046915520491\n",
      "B_LL_unpolar -0.026270469152466197\n"
     ]
    }
   ],
   "source": [
    "# matching coefficients\n",
    "kins = dijet.Kinematics(x=0.01, z=0.3, Q=10, pT=2, y=0.1, delta=0.5)\n",
    "kins.s = (kins.Q**2)/(kins.x*kins.y)\n",
    "\n",
    "coeffs = ['A_TT', 'B_TT', 'A_LT', 'B_LT', 'C_LT']\n",
    "coeffs += ['A_TT_unpolar', 'B_TT_unpolar', 'A_TmT_unpolar', 'B_TmT_unpolar', 'C_TmT_unpolar', 'A_LL_unpolar', 'B_LL_unpolar']\n",
    "coeff_values = {coeff: dj.get_coeff(coeff, kins) for coeff in coeffs}\n",
    "\n",
    "# ben_coeffs = {\n",
    "#     'A_TT': -8.494285245553912e-07,\n",
    "#     'B_TT': -3.444049066922065e-08,\n",
    "#     'A_LT': 2.356197548067663e-05,\n",
    "#     'B_LT': 8.214268057773021e-05,\n",
    "#     'C_LT': -9.16784882331537e-07,\n",
    "#     'A_TT_unpolar': 1.4975559569144442e-06,\n",
    "#     'B_TT_unpolar': -1.8843366541503538e-07,\n",
    "#     'A_TmT_unpolar': -1.0844370722483909e-06,\n",
    "#     'B_TmT_unpolar': 1.3645196461088766e-07,\n",
    "#     'C_TmT_unpolar': -4.3377482889935633e-07,\n",
    "#     'A_LL_unpolar': 1.615215249961842e-06,\n",
    "#     'B_LL_unpolar':6.061657486205812e-07\n",
    "# }\n",
    "ben_coeffs = {\n",
    "    'A_TT': -8.494285245553912e-07,\n",
    "    'B_TT': -3.444049066922065e-08,\n",
    "    'A_LT': 1.0242675452081359e-07,\n",
    "    'B_LT': 1.595462973023054e-07,\n",
    "    'C_LT': -9.167848823315369e-07,\n",
    "    'A_TT_unpolar': 1.4975559569144442e-06,\n",
    "    'B_TT_unpolar': -1.8843366541503538e-07,\n",
    "    'A_TmT_unpolar': -1.0844370722483909e-06,\n",
    "    'B_TmT_unpolar': 1.3645196461088766e-07,\n",
    "    'C_TmT_unpolar': -4.3377482889935633e-07,\n",
    "    'A_LL_unpolar': 1.615215249961842e-06,\n",
    "    'B_LL_unpolar':6.061657486205812e-07\n",
    "}\n",
    "\n",
    "for coeff in coeffs:\n",
    "    z = ((ben_coeffs[coeff] - coeff_values[coeff])/coeff_values[coeff])*100 \n",
    "    print(coeff, z)"
   ]
  },
  {
   "cell_type": "code",
   "execution_count": 5,
   "id": "d888aec6-9b3e-427b-adab-240400f0a224",
   "metadata": {},
   "outputs": [
    {
     "name": "stdout",
     "output_type": "stream",
     "text": [
      "N_11 0.07218212952448869\n",
      "N_00 0.0880932668706548\n",
      "G2_11 18.128900397854043\n",
      "Qs_11 22.84417434459833\n",
      "Qs_00 27.852671486809697\n",
      "Qu_11 22.84417434459833\n",
      "Qu_00 27.852671486809697\n",
      "Qd_11 22.84417434459833\n",
      "Qd_00 27.852671486809697\n",
      "1 -0.01893076 -0.01893076 0.0\n",
      "cos(phi_kp) 0.00080595 0.00080595 0.0\n",
      "cos(phi_Dp) -9.594e-05 -9.594e-05 0.0\n",
      "cos(phi_Dp)cos(phi_kp) 0.00015692 0.00015692 0.0\n",
      "sin(phi_Dp)sin(phi_kp) -0.00090172 -0.00090172 0.0\n"
     ]
    }
   ],
   "source": [
    "# matching final results\n",
    "kins = dijet.Kinematics(x=0.01, z=0.3, Q=10, pT=2, y=0.1, delta=0.5)\n",
    "kins.s = (kins.Q**2)/(kins.x*kins.y)\n",
    "\n",
    "weights = ['1', 'cos(phi_kp)', 'cos(phi_Dp)', 'cos(phi_Dp)cos(phi_kp)', 'sin(phi_Dp)sin(phi_kp)']\n",
    "nums = [dj.get_angle_integrated_xsec(kins, weight=w, kind='num') for w in weights]\n",
    "den = dj.get_angle_integrated_xsec(kins, weight='1', kind='den')\n",
    "corrs = {w: nums[iw]/den for iw, w in enumerate(weights)}\n",
    "\n",
    "\n",
    "ben_corrs = {\n",
    "    '1': -0.018930764988144055,\n",
    "    'cos(phi_kp)': 0.0008059486850585433,\n",
    "    'cos(phi_Dp)': -9.594462866617396e-05,\n",
    "    'cos(phi_Dp)cos(phi_kp)': 0.00015692448852636342,\n",
    "    'sin(phi_Dp)sin(phi_kp)': -0.0009017194455850274\n",
    "}\n",
    "\n",
    "\n",
    "for w in weights:\n",
    "    z = ((ben_corrs[w] - corrs[w])/corrs[w])*100 \n",
    "    print(w, round(ben_corrs[w],8) , round(corrs[w], 8), round(z, 4))"
   ]
  },
  {
   "cell_type": "code",
   "execution_count": 6,
   "id": "92f2b979-33c2-40fe-9b6c-b7f41a94a2fb",
   "metadata": {},
   "outputs": [
    {
     "name": "stdout",
     "output_type": "stream",
     "text": [
      "eqn.             ben            me    ben/me\n",
      "------  ------------  ------------  --------\n",
      "13a     -8.49429e-07  -8.49652e-07  0.999737\n",
      "13b     -3.44405e-08  -3.44495e-08  0.999737\n",
      "15a      1.02427e-07   1.02454e-07  0.999737\n",
      "15b      1.59546e-07   1.59588e-07  0.999737\n",
      "15c     -9.16785e-07  -9.17026e-07  0.999737\n",
      "23a      1.49756e-06   1.49795e-06  0.999737\n",
      "23b     -1.88434e-07  -1.88483e-07  0.999737\n",
      "23c     -1.08444e-06  -1.08472e-06  0.999737\n",
      "23d      1.36452e-07   1.36488e-07  0.999737\n",
      "23e     -4.33775e-07  -4.33889e-07  0.999737\n",
      "23f      1.61522e-06   1.61564e-06  0.999737\n",
      "23g      6.06166e-07   6.06325e-07  0.999737\n",
      "25a     -0.0189308    -0.0189308    1\n",
      "25b      0.000805949   0.000805949  1\n",
      "25c     -9.59446e-05  -9.59446e-05  1\n",
      "25d      0.000156924   0.000156924  1\n",
      "25e     -0.000901719  -0.000901719  1\n"
     ]
    }
   ],
   "source": [
    "coeff_eqs = ['13a','13b','15a','15b','15c','23a','23b', '23c','23d','23e','23f','23g']\n",
    "corr_eqs = ['25a','25b','25c','25d','25e']\n",
    "\n",
    "table_data = [[eq, bv, mv, bv/mv] for eq, bv, mv in zip(coeff_eqs, ben_coeffs.values(), coeff_values.values())]\n",
    "table_data += [[eq, bv, mv, bv/mv] for eq, bv, mv in zip(corr_eqs, ben_corrs.values(), corrs.values())]\n",
    "\n",
    "headers = ['eqn.', 'ben', 'me', 'ben/me']\n",
    "\n",
    "# print(tabulate(table_data, headers=headers, tablefmt=\"grid\"))\n",
    "print(tabulate(table_data, headers=headers))\n",
    "\n",
    "\n"
   ]
  },
  {
   "cell_type": "code",
   "execution_count": 2,
   "id": "1b15a1d1-96ed-45c4-ae7c-dbbd4781f56a",
   "metadata": {},
   "outputs": [
    {
     "name": "stdout",
     "output_type": "stream",
     "text": [
      "--> loaded unpol. amp. data from /dipoles/narr_ymin4.61_ymax14.91_AAMS09.dat\n",
      "--> loaded pol. amp. data from /dipoles/d05-rc/\n",
      "--> loaded params from /dipoles/replica_params_pp.csv\n",
      "--> loaded random moment params from /dipoles/moment_params_pp.csv\n",
      "--> loaded replica 4\n",
      "-4.849850563216388e-12 7.208160744721152e-08\n",
      "-1.8700565181140008e-08\n",
      "0.08564734009873348 0.047373365371609286\n",
      "1.4652554992021674 2.832777422791927\n"
     ]
    }
   ],
   "source": [
    "kins = dijet.Kinematics(x=0.01, z=0.3, Q=10, pT=1.0, y=0.1, delta=0.5)\n",
    "dj = dijet.DIJET(replica=4, fit_type='pp', lambdaIR=0.3)\n",
    "\n",
    "num = dj.get_angle_integrated_xsec(kins, weight='cos(phi_Dp)', kind='num')\n",
    "den = dj.get_angle_integrated_xsec(kins, weight='1', kind='den')\n",
    "\n",
    "print(num, den)\n",
    "\n",
    "print(dj.get_coeff('B_TT', kins))\n",
    "\n",
    "print(*dj.fourier_bessel(kins, [[0,1,1,0], [1,1,0,0]], 'N'))\n",
    "print(*dj.fourier_bessel(kins, [[1,1,0,0], [0,1,1,0]], 'I3u'))\n"
   ]
  },
  {
   "cell_type": "code",
   "execution_count": 12,
   "id": "0bae1af8-94b4-41fd-9b84-7fc033fbd747",
   "metadata": {},
   "outputs": [
    {
     "name": "stdout",
     "output_type": "stream",
     "text": [
      "--> loaded unpol. amp. data from /dipoles/narr_ymin4.61_ymax14.91_AAMS09.dat\n",
      "--> loaded pol. amp. data from /dipoles/d05-rc/\n",
      "--> loaded params from /dipoles/replica_params_pp.csv\n",
      "--> loaded random moment params from /dipoles/moment_params_pp.csv\n",
      "--> loaded replica 4\n",
      "0.00013543145529077083 -0.0003254119701130622\n"
     ]
    }
   ],
   "source": [
    "# gauss_mult_integrator('one', 4, [[0.2,0.5],[0.05, 0.95],[0.01,0.04]], 95**2, 2, 0.01, 2.0)\n",
    "dj = dijet.DIJET(replica=4, fit_type='pp', lambdaIR=0.3)\n",
    "s = 95**2\n",
    "space = {'y': [0.05, 0.95],\n",
    "         'z': [0.2, 0.5],\n",
    "         't': [0.01, 0.04],\n",
    "         # 't': 0.14,\n",
    "         'Q2': [16, 100],\n",
    "         'phi_Dp': [0, 2*np.pi],\n",
    "         'phi_kp': [0, 2*np.pi]\n",
    "        }\n",
    "\n",
    "pT = [1.0, 9.0]\n",
    "num = dj.get_integrated_xsec(pT, s, space, kind='num', weight='sin(phi_Dp)sin(phi_kp)', points=4)\n",
    "den = dj.get_integrated_xsec(pT, s, space, kind='den', weight='1', points=4)\n",
    "\n",
    "print(*[inu/idn for inu,idn in zip(num, den)])\n",
    "\n"
   ]
  },
  {
   "cell_type": "code",
   "execution_count": null,
   "id": "de3bcfaf-2fa8-4594-b880-942a6a27eedd",
   "metadata": {},
   "outputs": [],
   "source": []
  }
 ],
 "metadata": {
  "kernelspec": {
   "display_name": "Python 3 (ipykernel)",
   "language": "python",
   "name": "python3"
  },
  "language_info": {
   "codemirror_mode": {
    "name": "ipython",
    "version": 3
   },
   "file_extension": ".py",
   "mimetype": "text/x-python",
   "name": "python",
   "nbconvert_exporter": "python",
   "pygments_lexer": "ipython3",
   "version": "3.9.6"
  }
 },
 "nbformat": 4,
 "nbformat_minor": 5
}
